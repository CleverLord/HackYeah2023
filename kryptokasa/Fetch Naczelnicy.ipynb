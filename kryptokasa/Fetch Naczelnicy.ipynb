{
 "cells": [
  {
   "cell_type": "code",
   "execution_count": 1,
   "metadata": {},
   "outputs": [],
   "source": [
    "import selenium\n",
    "from selenium import webdriver\n",
    "from selenium.webdriver.common.keys import Keys\n",
    "from selenium.webdriver.common.by import By\n",
    "import time\n",
    "import pandas as pd\n",
    "import os\n",
    "import requests\n",
    "import pandas as pd"
   ]
  },
  {
   "cell_type": "code",
   "execution_count": 2,
   "metadata": {},
   "outputs": [
    {
     "name": "stderr",
     "output_type": "stream",
     "text": [
      "C:\\Users\\krzys\\AppData\\Local\\Temp\\ipykernel_11468\\2019326212.py:2: DeprecationWarning: executable_path has been deprecated, please pass in a Service object\n",
      "  driver = webdriver.Edge(executable_path=r'C:\\Users\\user\\Downloads\\edgedriver_win64\\msedgedriver.exe')\n"
     ]
    }
   ],
   "source": [
    "#create new edge webriver\n",
    "driver = webdriver.Edge(executable_path=r'C:\\Users\\user\\Downloads\\edgedriver_win64\\msedgedriver.exe')"
   ]
  },
  {
   "cell_type": "code",
   "execution_count": 6,
   "metadata": {},
   "outputs": [],
   "source": [
    "driver.get(\"https://sip.lex.pl/akty-prawne/dzu-dziennik-ustaw/wyznaczenie-organow-krajowej-administracji-skarbowej-do-wykonywania-18574815\")"
   ]
  },
  {
   "cell_type": "code",
   "execution_count": 29,
   "metadata": {},
   "outputs": [
    {
     "name": "stdout",
     "output_type": "stream",
     "text": [
      "1\n",
      "1\n",
      "384\n"
     ]
    }
   ],
   "source": [
    "zal_1= driver.find_elements(By.ID,\"zal(1)\")\n",
    "print(len(zal_1))\n",
    "#find object zal_1>>div>>div>>table>>tbody\n",
    "tbody= zal_1[0].find_elements(By.XPATH,\".//div/div/table/tbody\")\n",
    "print(len(tbody))\n",
    "rows= tbody[0].find_elements(By.XPATH,\".//tr\")\n",
    "print(len(rows))"
   ]
  },
  {
   "cell_type": "code",
   "execution_count": 37,
   "metadata": {},
   "outputs": [],
   "source": [
    "#get rows that have excactky 3 td\n",
    "naczelnik_rows=[row for row in rows if \"Naczelnik\" in row.text]"
   ]
  },
  {
   "cell_type": "code",
   "execution_count": 41,
   "metadata": {},
   "outputs": [],
   "source": [
    "#select only second td, and get text from it to a list\n",
    "naczelnik_nazwa= [row.find_elements(By.XPATH,\".//td[2]\")[0].text for row in naczelnik_rows]\n",
    "naczelnik_descr= [row.find_elements(By.XPATH,\".//td[3]\")[0].text for row in naczelnik_rows]"
   ]
  },
  {
   "cell_type": "code",
   "execution_count": 42,
   "metadata": {},
   "outputs": [
    {
     "name": "stdout",
     "output_type": "stream",
     "text": [
      "0    powiat bolesławiecki obejmujący: miasto Bolesł...\n",
      "1    część powiatu kłodzkiego obejmująca gminy: Bys...\n",
      "2    powiat dzierżoniowski obejmujący:\\nmiasta: Bie...\n",
      "3    powiat głogowski obejmujący: miasto Głogów gmi...\n",
      "4    powiat jaworski obejmujący: miasto Jawor gminy...\n",
      "dtype: object\n"
     ]
    }
   ],
   "source": [
    "#print first 5 elements of the list\n",
    "print(pd.Series(naczelnik_descr).head())"
   ]
  },
  {
   "cell_type": "code",
   "execution_count": 43,
   "metadata": {},
   "outputs": [
    {
     "data": {
      "text/plain": [
       "'część powiatu kłodzkiego obejmująca gminy: Bystrzyca Kłodzka, Lądek-Zdrój, Międzylesie, Stronie Śląskie'"
      ]
     },
     "execution_count": 43,
     "metadata": {},
     "output_type": "execute_result"
    }
   ],
   "source": [
    "naczelnik_descr[1]"
   ]
  },
  {
   "cell_type": "code",
   "execution_count": null,
   "metadata": {},
   "outputs": [],
   "source": []
  }
 ],
 "metadata": {
  "kernelspec": {
   "display_name": "Python 3",
   "language": "python",
   "name": "python3"
  },
  "language_info": {
   "codemirror_mode": {
    "name": "ipython",
    "version": 3
   },
   "file_extension": ".py",
   "mimetype": "text/x-python",
   "name": "python",
   "nbconvert_exporter": "python",
   "pygments_lexer": "ipython3",
   "version": "3.9.13"
  },
  "orig_nbformat": 4
 },
 "nbformat": 4,
 "nbformat_minor": 2
}
